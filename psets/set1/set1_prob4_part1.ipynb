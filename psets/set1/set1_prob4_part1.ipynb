{
  "nbformat": 4,
  "nbformat_minor": 0,
  "metadata": {
    "anaconda-cloud": {},
    "kernelspec": {
      "display_name": "Python 3",
      "language": "python",
      "name": "python3"
    },
    "language_info": {
      "codemirror_mode": {
        "name": "ipython",
        "version": 3
      },
      "file_extension": ".py",
      "mimetype": "text/x-python",
      "name": "python",
      "nbconvert_exporter": "python",
      "pygments_lexer": "ipython3",
      "version": "3.5.6"
    },
    "colab": {
      "name": "4_notebook_part1.ipynb",
      "provenance": [],
      "include_colab_link": true
    }
  },
  "cells": [
    {
      "cell_type": "markdown",
      "metadata": {
        "id": "view-in-github",
        "colab_type": "text"
      },
      "source": [
        "<a href=\"https://colab.research.google.com/github/lakigigar/Caltech-CS155-2021/blob/main/psets/set1/set1_prob4_part1.ipynb\" target=\"_parent\"><img src=\"https://colab.research.google.com/assets/colab-badge.svg\" alt=\"Open In Colab\"/></a>"
      ]
    },
    {
      "cell_type": "markdown",
      "metadata": {
        "id": "iSa_Pndiai8V"
      },
      "source": [
        "# Problem 4, Parts C-E: Stochastic Gradient Descent Visualization"
      ]
    },
    {
      "cell_type": "markdown",
      "metadata": {
        "id": "sVm9Bra3ai8X"
      },
      "source": [
        "In this Jupyter notebook, we visualize how SGD works. This visualization corresponds to parts C-E of question 4 in set 1.\n",
        "\n",
        "Use this notebook to write your code for problem 4 parts C-E by filling in the sections marked `# TODO` and running all cells."
      ]
    },
    {
      "cell_type": "code",
      "metadata": {
        "colab": {
          "base_uri": "https://localhost:8080/"
        },
        "id": "X-J8Fh_kzyXh",
        "outputId": "27f30897-baf2-4c87-86a6-317f39dd09c1"
      },
      "source": [
        "# Install a package\n",
        "!apt-get update",
        "!apt install imagemagick"
      ],
      "execution_count": null,
      "outputs": [
        {
          "output_type": "stream",
          "text": [
            "Reading package lists... Done\n",
            "Building dependency tree       \n",
            "Reading state information... Done\n",
            "imagemagick is already the newest version (8:6.9.7.4+dfsg-16ubuntu6.9).\n",
            "0 upgraded, 0 newly installed, 0 to remove and 15 not upgraded.\n"
          ],
          "name": "stdout"
        }
      ]
    },
    {
      "cell_type": "code",
      "metadata": {
        "collapsed": true,
        "id": "ctuEpdrPai8X"
      },
      "source": [
        "# Setup.\n",
        "\n",
        "import numpy as np\n",
        "import matplotlib.pyplot as plt\n",
        "from IPython.display import HTML, Image\n",
        "from matplotlib import animation, rc\n",
        "\n",
        "import urllib.request\n",
        "urllib.request.urlretrieve('https://raw.githubusercontent.com/lakigigar/Caltech-CS155-2021/main/psets/set1/sgd_helper.py', 'sgd_helper.py')\n",
        "\n",
        "from sgd_helper import (\n",
        "    generate_dataset1,\n",
        "    generate_dataset2,\n",
        "    plot_dataset,\n",
        "    plot_loss_function,\n",
        "    animate_convergence,\n",
        "    animate_sgd_suite\n",
        ")"
      ],
      "execution_count": null,
      "outputs": []
    },
    {
      "cell_type": "markdown",
      "metadata": {
        "id": "XPuWkASdai8Y"
      },
      "source": [
        "## Problem 4C: Implementation of SGD"
      ]
    },
    {
      "cell_type": "markdown",
      "metadata": {
        "id": "KToTiDNFai8Y"
      },
      "source": [
        "Fill in the loss, gradient, and SGD functions according to the guidelines given in the problem statement in order to perform SGD."
      ]
    },
    {
      "cell_type": "code",
      "metadata": {
        "collapsed": true,
        "id": "HACU-UWJai8Z"
      },
      "source": [
        "def loss(X, Y, w):\n",
        "    '''\n",
        "    Calculate the squared loss function.\n",
        "    \n",
        "    Inputs:\n",
        "        X: A (N, D) shaped numpy array containing the data points.\n",
        "        Y: A (N, ) shaped numpy array containing the (float) labels of the data points.\n",
        "        w: A (D, ) shaped numpy array containing the weight vector.\n",
        "    \n",
        "    Outputs:\n",
        "        The loss evaluated with respect to X, Y, and w.\n",
        "    '''\n",
        "    \n",
        "    #==============================================\n",
        "    # TODO: Implement the SGD loss function.\n",
        "    #==============================================\n",
        "    \n",
        "    pass\n",
        "\n",
        "def gradient(x, y, w):\n",
        "    '''\n",
        "    Calculate the gradient of the loss function with respect to the weight vector w,\n",
        "    evaluated at a single point (x, y) and weight vector w.\n",
        "    \n",
        "    Inputs:\n",
        "        x: A (D, ) shaped numpy array containing a single data point.\n",
        "        y: The float label for the data point.\n",
        "        w: A (D, ) shaped numpy array containing the weight vector.\n",
        "        \n",
        "    Output:\n",
        "        The gradient of the loss with respect to w. \n",
        "    '''\n",
        "\n",
        "    #==============================================\n",
        "    # TODO: Implement the gradient of the\n",
        "    # loss function.\n",
        "    #==============================================    \n",
        "    \n",
        "    pass\n",
        "\n",
        "def SGD(X, Y, w_start, eta, N_epochs):\n",
        "    '''\n",
        "    Perform SGD using dataset (X, Y), initial weight vector w_start,\n",
        "    learning rate eta, and N_epochs epochs.\n",
        "    \n",
        "    Inputs:\n",
        "        X: A (N, D) shaped numpy array containing the data points.\n",
        "        Y: A (N, ) shaped numpy array containing the (float) labels of the data points.\n",
        "        w_start:  A (D, ) shaped numpy array containing the weight vector initialization.\n",
        "        eta: The step size.\n",
        "        N_epochs: The number of epochs (iterations) to run SGD.\n",
        "        \n",
        "    Outputs:\n",
        "        W: A (N_epochs, D) shaped array containing the weight vectors from all iterations.\n",
        "        losses: A (N_epochs, ) shaped array containing the losses from all iterations.\n",
        "    '''\n",
        "    \n",
        "    #==============================================\n",
        "    # TODO: Implement the SGD algorithm.\n",
        "    #==============================================    \n",
        "    \n",
        "    pass"
      ],
      "execution_count": null,
      "outputs": []
    },
    {
      "cell_type": "markdown",
      "metadata": {
        "id": "C0JxmQ1Qai8Z"
      },
      "source": [
        "## Problem 4D: Visualization"
      ]
    },
    {
      "cell_type": "markdown",
      "metadata": {
        "id": "-5wANDu9ai8Z"
      },
      "source": [
        "### Dataset"
      ]
    },
    {
      "cell_type": "markdown",
      "metadata": {
        "id": "4Yw52A6Hai8a"
      },
      "source": [
        "We'll start off by generating two simple 2-dimensional datasets. For simplicity we do not consider separate training and test sets."
      ]
    },
    {
      "cell_type": "code",
      "metadata": {
        "collapsed": true,
        "scrolled": false,
        "id": "XIIzwBBQai8a"
      },
      "source": [
        "X1, Y1 = generate_dataset1()\n",
        "plot_dataset(X1, Y1)"
      ],
      "execution_count": null,
      "outputs": []
    },
    {
      "cell_type": "code",
      "metadata": {
        "collapsed": true,
        "scrolled": false,
        "id": "-C0ppjb7ai8a"
      },
      "source": [
        "X2, Y2 = generate_dataset2()\n",
        "plot_dataset(X2, Y2)"
      ],
      "execution_count": null,
      "outputs": []
    },
    {
      "cell_type": "markdown",
      "metadata": {
        "id": "6A3OFQOKai8a"
      },
      "source": [
        "### SGD from a single point"
      ]
    },
    {
      "cell_type": "markdown",
      "metadata": {
        "id": "0U6jp6sDai8a"
      },
      "source": [
        "First, let's visualize SGD from a single starting point:"
      ]
    },
    {
      "cell_type": "code",
      "metadata": {
        "collapsed": true,
        "scrolled": false,
        "id": "NbnexXLhai8b"
      },
      "source": [
        "# Parameters to feed the SGD.\n",
        "# <FR> changes the animation speed.\n",
        "params = ({'w_start': [0.01, 0.01], 'eta': 0.00001},)\n",
        "N_epochs = 1000\n",
        "FR = 20\n",
        "\n",
        "# Let's animate it!\n",
        "anim = animate_sgd_suite(SGD, loss, X1, Y1, params, N_epochs, FR)\n",
        "anim.save('animation1.gif', fps=30, writer='imagemagick')\n",
        "Image(open('animation1.gif','rb').read())"
      ],
      "execution_count": null,
      "outputs": []
    },
    {
      "cell_type": "markdown",
      "metadata": {
        "id": "oLSMfhu4ai8b"
      },
      "source": [
        "Let's view how the weights change as the algorithm converges:"
      ]
    },
    {
      "cell_type": "code",
      "metadata": {
        "collapsed": true,
        "id": "VeFrXrxwai8b"
      },
      "source": [
        "# Parameters to feed the SGD.\n",
        "params = ({'w_start': [0.01, 0.01], 'eta': 0.00001},)\n",
        "N_epochs = 1000\n",
        "FR = 20\n",
        "\n",
        "# Let's do it!\n",
        "W, _ = SGD(X1, Y1, params[0]['w_start'], params[0]['eta'], N_epochs)\n",
        "anim = animate_convergence(X1, Y1, W, FR)\n",
        "anim.save('animation2.gif', fps=30, writer='imagemagick')\n",
        "Image(open('animation2.gif','rb').read())"
      ],
      "execution_count": null,
      "outputs": []
    },
    {
      "cell_type": "markdown",
      "metadata": {
        "id": "jDqOQcIiai8b"
      },
      "source": [
        "### SGD from multiple points"
      ]
    },
    {
      "cell_type": "markdown",
      "metadata": {
        "id": "N7vkMw77ai8b"
      },
      "source": [
        "Now, let's visualize SGD from multiple arbitrary starting points:"
      ]
    },
    {
      "cell_type": "code",
      "metadata": {
        "collapsed": true,
        "scrolled": false,
        "id": "sKdOkb0lai8c"
      },
      "source": [
        "# Parameters to feed the SGD.\n",
        "# Here, we specify each different set of initializations as a dictionary.\n",
        "params = (\n",
        "    {'w_start': [-0.8, -0.3], 'eta': 0.00001},\n",
        "    {'w_start': [-0.9, 0.4], 'eta': 0.00001},\n",
        "    {'w_start': [-0.4, 0.9], 'eta': 0.00001},\n",
        "    {'w_start': [0.8, 0.8], 'eta': 0.00001},\n",
        ")\n",
        "N_epochs = 1000\n",
        "FR = 20\n",
        "\n",
        "# Let's go!\n",
        "anim = animate_sgd_suite(SGD, loss, X1, Y1, params, N_epochs, FR)\n",
        "anim.save('animation3.gif', fps=30, writer='imagemagick')\n",
        "Image(open('animation3.gif','rb').read())"
      ],
      "execution_count": null,
      "outputs": []
    },
    {
      "cell_type": "markdown",
      "metadata": {
        "id": "shPaGcNdai8c"
      },
      "source": [
        "Let's do the same thing but with a different dataset:"
      ]
    },
    {
      "cell_type": "code",
      "metadata": {
        "collapsed": true,
        "scrolled": false,
        "id": "XYnvmQ4Bai8c"
      },
      "source": [
        "# Parameters to feed the SGD.\n",
        "params = (\n",
        "    {'w_start': [-0.8, -0.3], 'eta': 0.00001},\n",
        "    {'w_start': [-0.9, 0.4], 'eta': 0.00001},\n",
        "    {'w_start': [-0.4, 0.9], 'eta': 0.00001},\n",
        "    {'w_start': [0.8, 0.8], 'eta': 0.00001},\n",
        ")\n",
        "N_epochs = 1000\n",
        "FR = 20\n",
        "\n",
        "# Animate!\n",
        "anim = animate_sgd_suite(SGD, loss, X2, Y2, params, N_epochs, FR)\n",
        "anim.save('animation4.gif', fps=30, writer='imagemagick')\n",
        "Image(open('animation4.gif','rb').read())"
      ],
      "execution_count": null,
      "outputs": []
    },
    {
      "cell_type": "markdown",
      "metadata": {
        "id": "orpKA11Xai8c"
      },
      "source": [
        "## Problem 4E: SGD with different step sizes"
      ]
    },
    {
      "cell_type": "markdown",
      "metadata": {
        "id": "AhCA5L5Iai8c"
      },
      "source": [
        "Now, let's visualize SGD with different step sizes (eta):\n",
        "\n",
        "(For ease of visualization: the trajectories are ordered from left to right by decreasing eta value. Also, note that we use smaller values of N_epochs and FR here for easier visualization.)"
      ]
    },
    {
      "cell_type": "code",
      "metadata": {
        "collapsed": true,
        "id": "Qzs3gJPqai8d"
      },
      "source": [
        "# Parameters to feed the SGD.\n",
        "params = (\n",
        "    {'w_start': [0.7, 0.8], 'eta': 0.00001},\n",
        "    { 'w_start': [0.2, 0.8], 'eta': 0.00005},\n",
        "    {'w_start': [-0.2, 0.7], 'eta': 0.0001},\n",
        "    {'w_start': [-0.6, 0.6], 'eta': 0.0002},\n",
        ")\n",
        "N_epochs = 100\n",
        "FR = 2\n",
        "\n",
        "# Go!\n",
        "anim = animate_sgd_suite(SGD, loss, X1, Y1, params, N_epochs, FR, ms=2)\n",
        "anim.save('animation5.gif', fps=30, writer='imagemagick')\n",
        "Image(open('animation5.gif','rb').read())"
      ],
      "execution_count": null,
      "outputs": []
    },
    {
      "cell_type": "markdown",
      "metadata": {
        "id": "WKymCZSjai8d"
      },
      "source": [
        "### Plotting SGD Convergence"
      ]
    },
    {
      "cell_type": "markdown",
      "metadata": {
        "id": "y_ZBfPOmai8d"
      },
      "source": [
        "Let's visualize the difference in convergence rates a different way. Plot the loss with respect to epoch (iteration) number for each value of eta on the same graph."
      ]
    },
    {
      "cell_type": "code",
      "metadata": {
        "collapsed": true,
        "id": "2b557JWAai8e"
      },
      "source": [
        "'''Plotting SGD convergence'''\n",
        "\n",
        "#==============================================\n",
        "# TODO: For the given learning rates, plot the \n",
        "# loss for each epoch.\n",
        "#==============================================\n",
        "\n",
        "eta_vals = [1e-6, 5e-6, 1e-5, 3e-5, 1e-4]\n",
        "w_start = [0.01, 0.01]\n",
        "N_epochs = 1000"
      ],
      "execution_count": null,
      "outputs": []
    },
    {
      "cell_type": "markdown",
      "metadata": {
        "id": "-ZJvcCuLai8e"
      },
      "source": [
        "Clearly, a big step size results in fast convergence! Why don't we just set eta to a really big value, then? Say, eta=1?\n",
        "\n",
        "(Again, note that the FR is lower for this animation.)"
      ]
    },
    {
      "cell_type": "code",
      "metadata": {
        "collapsed": true,
        "id": "yCCsyUV0ai8e"
      },
      "source": [
        "# Parameters to feed the SGD.\n",
        "params = ({'w_start': [0.01, 0.01], 'eta': 1},)\n",
        "N_epochs = 100\n",
        "FR = 2\n",
        "\n",
        "# Voila!\n",
        "anim = animate_sgd_suite(SGD, loss, X1, Y1, params, N_epochs, FR, ms=2)\n",
        "anim.save('animation6.gif', fps=30, writer='imagemagick')\n",
        "Image(open('animation6.gif','rb').read())"
      ],
      "execution_count": null,
      "outputs": []
    },
    {
      "cell_type": "markdown",
      "metadata": {
        "id": "h6Arwsjmai8e"
      },
      "source": [
        "Just for fun, let's try eta=10 as well. What happens? (Hint: look at W)"
      ]
    },
    {
      "cell_type": "code",
      "metadata": {
        "collapsed": true,
        "id": "29DGd8Taai8e"
      },
      "source": [
        "# Parameters to feed the SGD.\n",
        "w_start = [0.01, 0.01]\n",
        "eta = 10\n",
        "N_epochs = 100\n",
        "\n",
        "# Presto!\n",
        "W, losses = SGD(X1, Y1, w_start, eta, N_epochs)"
      ],
      "execution_count": null,
      "outputs": []
    },
    {
      "cell_type": "markdown",
      "metadata": {
        "id": "NmBrbj2tai8f"
      },
      "source": [
        "## Extra Visualization (not part of the homework problem)"
      ]
    },
    {
      "cell_type": "markdown",
      "metadata": {
        "id": "zu6ZyuqVai8f"
      },
      "source": [
        "One final visualization! What happens if the loss function has multiple optima?"
      ]
    },
    {
      "cell_type": "code",
      "metadata": {
        "collapsed": true,
        "id": "oW7z8wu8ai8f"
      },
      "source": [
        "\n",
        "import urllib.request\n",
        "urllib.request.urlretrieve('https://raw.githubusercontent.com/lakigigar/Caltech-CS155-2021/main/psets/set1/sgd_multiopt_helper.py', 'sgd_multiopt_helper.py')\n",
        "\n",
        "# Import different SGD & loss functions.\n",
        "# In particular, the loss function has multiple optima.\n",
        "from sgd_multiopt_helper import SGD, loss\n",
        "\n",
        "# Parameters to feed the SGD.\n",
        "params = (\n",
        "    {'w_start': [0.9, 0.9], 'eta': 0.01},\n",
        "    { 'w_start': [0.0, 0.0], 'eta': 0.01},\n",
        "    {'w_start': [-0.8, 0.6], 'eta': 0.01},\n",
        "    {'w_start': [-0.8, -0.6], 'eta': 0.01},\n",
        "    {'w_start': [-0.4, -0.3], 'eta': 0.01},\n",
        ")\n",
        "N_epochs = 100\n",
        "FR = 2\n",
        "\n",
        "# One more time!\n",
        "anim = animate_sgd_suite(SGD, loss, X1, Y1, params, N_epochs, FR, ms=2)\n",
        "anim.save('animation7.gif', fps=30, writer='imagemagick')\n",
        "Image(open('animation7.gif','rb').read())"
      ],
      "execution_count": null,
      "outputs": []
    }
  ]
}