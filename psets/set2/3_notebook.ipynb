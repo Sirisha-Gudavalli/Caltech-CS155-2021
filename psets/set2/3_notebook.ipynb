{
  "nbformat": 4,
  "nbformat_minor": 0,
  "metadata": {
    "kernelspec": {
      "display_name": "Python 2",
      "language": "python",
      "name": "python2"
    },
    "language_info": {
      "codemirror_mode": {
        "name": "ipython",
        "version": 2
      },
      "file_extension": ".py",
      "mimetype": "text/x-python",
      "name": "python",
      "nbconvert_exporter": "python",
      "pygments_lexer": "ipython2",
      "version": "2.7.9"
    },
    "colab": {
      "name": "3_notebook.ipynb",
      "provenance": [],
      "include_colab_link": true
    }
  },
  "cells": [
    {
      "cell_type": "markdown",
      "metadata": {
        "id": "view-in-github",
        "colab_type": "text"
      },
      "source": [
        "<a href=\"https://colab.research.google.com/github/lakigigar/Caltech-CS155-2021/blob/main/psets/set2/3_notebook.ipynb\" target=\"_parent\"><img src=\"https://colab.research.google.com/assets/colab-badge.svg\" alt=\"Open In Colab\"/></a>"
      ]
    },
    {
      "cell_type": "markdown",
      "metadata": {
        "id": "Ij0dgupTFHjh"
      },
      "source": [
        "# Problem 3 "
      ]
    },
    {
      "cell_type": "markdown",
      "metadata": {
        "id": "8E-7EnioFHjw"
      },
      "source": [
        "Use this notebook to write your code for problem 3. "
      ]
    },
    {
      "cell_type": "code",
      "metadata": {
        "collapsed": true,
        "id": "qghgW4KrFHjw"
      },
      "source": [
        "import numpy as np\n",
        "from matplotlib import pyplot as plt\n",
        "from numpy import genfromtxt\n",
        "from sklearn.linear_model import Ridge\n",
        "from sklearn.linear_model import Lasso\n",
        "%matplotlib inline"
      ],
      "execution_count": null,
      "outputs": []
    },
    {
      "cell_type": "markdown",
      "metadata": {
        "id": "ovo8MxyRFHjx"
      },
      "source": [
        "## Load data"
      ]
    },
    {
      "cell_type": "code",
      "metadata": {
        "id": "ACVT2gNdFHjx"
      },
      "source": [
        "train_file = 'https://raw.githubusercontent.com/lakigigar/Caltech-CS155-2021/main/psets/set2/data/problem3data.txt'\n",
        "train_data = genfromtxt(train_file, delimiter='\\t')\n",
        "\n",
        "y_train = train_data[:, 9]\n",
        "X_train = train_data[:, :9]"
      ],
      "execution_count": null,
      "outputs": []
    }
  ]
}